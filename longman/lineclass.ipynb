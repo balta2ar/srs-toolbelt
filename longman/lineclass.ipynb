{
 "cells": [
  {
   "cell_type": "code",
   "execution_count": 33,
   "metadata": {
    "collapsed": false
   },
   "outputs": [],
   "source": [
    "import numpy as np\n",
    "import pandas as pd\n",
    "import scipy\n",
    "#from scipy.cluster.vq import kmeans, vq\n",
    "from sklearn.preprocessing import normalize\n",
    "from sklearn.cluster import KMeans\n",
    "import matplotlib.pyplot as plt\n",
    "import seaborn as sns\n",
    "%matplotlib inline"
   ]
  },
  {
   "cell_type": "code",
   "execution_count": 42,
   "metadata": {
    "collapsed": false
   },
   "outputs": [
    {
     "data": {
      "text/html": [
       "<div>\n",
       "<table border=\"1\" class=\"dataframe\">\n",
       "  <thead>\n",
       "    <tr style=\"text-align: right;\">\n",
       "      <th></th>\n",
       "      <th>filename</th>\n",
       "      <th>ink_volume</th>\n",
       "      <th>height</th>\n",
       "      <th>words_ratio</th>\n",
       "      <th>index</th>\n",
       "    </tr>\n",
       "  </thead>\n",
       "  <tbody>\n",
       "    <tr>\n",
       "      <th>0</th>\n",
       "      <td>lines/page0_block0_line0.png</td>\n",
       "      <td>0.319284</td>\n",
       "      <td>16</td>\n",
       "      <td>0.016166</td>\n",
       "      <td>0</td>\n",
       "    </tr>\n",
       "    <tr>\n",
       "      <th>1</th>\n",
       "      <td>lines/page0_block0_line1.png</td>\n",
       "      <td>0.350393</td>\n",
       "      <td>17</td>\n",
       "      <td>0.016949</td>\n",
       "      <td>1</td>\n",
       "    </tr>\n",
       "    <tr>\n",
       "      <th>2</th>\n",
       "      <td>lines/page0_block0_line2.png</td>\n",
       "      <td>0.305815</td>\n",
       "      <td>17</td>\n",
       "      <td>0.017291</td>\n",
       "      <td>2</td>\n",
       "    </tr>\n",
       "    <tr>\n",
       "      <th>3</th>\n",
       "      <td>lines/page0_block0_line3.png</td>\n",
       "      <td>0.370192</td>\n",
       "      <td>17</td>\n",
       "      <td>0.016827</td>\n",
       "      <td>3</td>\n",
       "    </tr>\n",
       "    <tr>\n",
       "      <th>4</th>\n",
       "      <td>lines/page0_block0_line4.png</td>\n",
       "      <td>0.300601</td>\n",
       "      <td>17</td>\n",
       "      <td>0.022364</td>\n",
       "      <td>4</td>\n",
       "    </tr>\n",
       "  </tbody>\n",
       "</table>\n",
       "</div>"
      ],
      "text/plain": [
       "                       filename  ink_volume  height  words_ratio  index\n",
       "0  lines/page0_block0_line0.png    0.319284      16     0.016166      0\n",
       "1  lines/page0_block0_line1.png    0.350393      17     0.016949      1\n",
       "2  lines/page0_block0_line2.png    0.305815      17     0.017291      2\n",
       "3  lines/page0_block0_line3.png    0.370192      17     0.016827      3\n",
       "4  lines/page0_block0_line4.png    0.300601      17     0.022364      4"
      ]
     },
     "execution_count": 42,
     "metadata": {},
     "output_type": "execute_result"
    }
   ],
   "source": [
    "data = pd.read_csv('lines.csv')\n",
    "data['index'] = data.index\n",
    "data.head()"
   ]
  },
  {
   "cell_type": "code",
   "execution_count": 43,
   "metadata": {
    "collapsed": false
   },
   "outputs": [],
   "source": [
    "features = ['ink_volume', 'height', 'words_ratio']\n",
    "X = data.loc[:, features].values"
   ]
  },
  {
   "cell_type": "code",
   "execution_count": 53,
   "metadata": {
    "collapsed": false
   },
   "outputs": [
    {
     "data": {
      "text/plain": [
       "array([[  3.19284065e-01,   1.60000000e+01,   1.61662818e-02],\n",
       "       [  3.50393265e-01,   1.70000000e+01,   1.69491525e-02],\n",
       "       [  3.05814545e-01,   1.70000000e+01,   1.72910663e-02],\n",
       "       [  3.70192308e-01,   1.70000000e+01,   1.68269231e-02],\n",
       "       [  3.00601391e-01,   1.70000000e+01,   2.23642173e-02],\n",
       "       [  3.56412729e-01,   1.70000000e+01,   2.29508197e-02],\n",
       "       [  3.65625000e-01,   1.60000000e+01,   1.25000000e-02],\n",
       "       [  2.57357680e-01,   1.90000000e+01,   2.04081633e-02],\n",
       "       [  2.39195348e-01,   2.10000000e+01,   2.31023102e-02],\n",
       "       [  2.50165344e-01,   2.10000000e+01,   2.08333333e-02]])"
      ]
     },
     "execution_count": 53,
     "metadata": {},
     "output_type": "execute_result"
    }
   ],
   "source": [
    "X[:10]"
   ]
  },
  {
   "cell_type": "code",
   "execution_count": 54,
   "metadata": {
    "collapsed": false
   },
   "outputs": [
    {
     "data": {
      "text/plain": [
       "array([[  1.99512718e-02,   9.99800443e-01,   1.01019098e-03],\n",
       "       [  2.06069815e-02,   9.99787157e-01,   9.96796766e-04],\n",
       "       [  1.79861716e-02,   9.99837719e-01,   1.01695649e-03],\n",
       "       [  2.17708462e-02,   9.99762497e-01,   9.89583920e-04],\n",
       "       [  1.76796557e-02,   9.99842837e-01,   1.31533544e-03],\n",
       "       [  2.09608294e-02,   9.99779387e-01,   1.34975038e-03],\n",
       "       [  2.28455914e-02,   9.99738700e-01,   7.81045860e-04],\n",
       "       [  1.35438908e-02,   9.99907700e-01,   1.07401472e-03],\n",
       "       [  1.13895090e-02,   9.99934532e-01,   1.10003799e-03],\n",
       "       [  1.19117844e-02,   9.99928560e-01,   9.91992619e-04]])"
      ]
     },
     "execution_count": 54,
     "metadata": {},
     "output_type": "execute_result"
    }
   ],
   "source": [
    "normalize(X[:10])"
   ]
  },
  {
   "cell_type": "code",
   "execution_count": null,
   "metadata": {
    "collapsed": true
   },
   "outputs": [],
   "source": []
  },
  {
   "cell_type": "code",
   "execution_count": 55,
   "metadata": {
    "collapsed": true
   },
   "outputs": [],
   "source": [
    "#centroids, a = kmeans(X, 3)\n",
    "#idx, b = vq(X, centroids)\n",
    "kmeans = KMeans(n_clusters=3, random_state=0).fit(normalize(X))"
   ]
  },
  {
   "cell_type": "code",
   "execution_count": 56,
   "metadata": {
    "collapsed": false
   },
   "outputs": [
    {
     "data": {
      "text/plain": [
       "array([1, 1, 2, 1, 2, 1, 1, 2, 0, 0, 2, 2, 1, 0, 0, 2, 2, 0, 0, 0, 0, 0, 2,\n",
       "       2, 2, 2, 2, 0, 2, 1, 0, 2, 0, 2, 2, 0, 0, 2, 2, 2, 0, 2, 2, 0, 2, 2,\n",
       "       0, 0, 2, 0, 0, 2, 0, 2, 1, 2, 2, 2, 0, 0, 2, 2, 1, 0, 2, 0, 0, 2, 2,\n",
       "       2, 0, 0, 0, 2, 2, 2, 0, 0, 2, 1, 0, 0, 2, 0, 0, 0, 2, 0, 0, 2, 0, 2,\n",
       "       0, 0, 2, 0, 2, 0, 0, 2, 0, 0, 2, 0, 2, 0, 2, 2, 1, 2, 2, 0, 2, 2, 0,\n",
       "       1, 0, 2, 2, 0, 0, 2, 1, 2, 0, 0, 2, 0, 2, 2, 2, 1, 1, 1, 2, 0, 0, 0,\n",
       "       0, 0, 2, 2, 2, 0, 2, 2, 2, 0, 0, 2, 2, 2, 0, 0, 2, 2, 2], dtype=int32)"
      ]
     },
     "execution_count": 56,
     "metadata": {},
     "output_type": "execute_result"
    }
   ],
   "source": [
    "kmeans.labels_"
   ]
  },
  {
   "cell_type": "code",
   "execution_count": 58,
   "metadata": {
    "collapsed": false
   },
   "outputs": [
    {
     "data": {
      "text/plain": [
       "array([[  1.21396443e-02,   9.99925467e-01,   1.00484905e-03],\n",
       "       [  2.16073336e-02,   9.99764751e-01,   1.19409333e-03],\n",
       "       [  1.45677660e-02,   9.99892797e-01,   9.79267498e-04]])"
      ]
     },
     "execution_count": 58,
     "metadata": {},
     "output_type": "execute_result"
    }
   ],
   "source": [
    "kmeans.cluster_centers_"
   ]
  },
  {
   "cell_type": "code",
   "execution_count": null,
   "metadata": {
    "collapsed": true
   },
   "outputs": [],
   "source": []
  }
 ],
 "metadata": {
  "kernelspec": {
   "display_name": "python2",
   "language": "python",
   "name": "python2"
  },
  "language_info": {
   "codemirror_mode": {
    "name": "ipython",
    "version": 2
   },
   "file_extension": ".py",
   "mimetype": "text/x-python",
   "name": "python",
   "nbconvert_exporter": "python",
   "pygments_lexer": "ipython2",
   "version": "2.7.11"
  }
 },
 "nbformat": 4,
 "nbformat_minor": 0
}
